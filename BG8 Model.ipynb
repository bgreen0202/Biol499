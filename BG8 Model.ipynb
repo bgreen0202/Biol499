{
 "cells": [
  {
   "cell_type": "code",
   "execution_count": 1,
   "metadata": {},
   "outputs": [],
   "source": [
    "import cobra\n",
    "import pandas as pd\n",
    "import json\n",
    "from cobra import Model, Reaction, Metabolite\n",
    "from cobra.io import load_model, write_sbml_model, read_sbml_model, save_json_model, load_matlab_model\n",
    "from pathlib import Path\n",
    "from collections import defaultdict\n",
    "import math\n",
    "import numpy as np\n",
    "import networkx as nx\n",
    "import matplotlib.pyplot as plt"
   ]
  },
  {
   "cell_type": "code",
   "execution_count": 77,
   "metadata": {},
   "outputs": [
    {
     "name": "stderr",
     "output_type": "stream",
     "text": [
      "'' is not a valid SBML 'SId'.\n"
     ]
    }
   ],
   "source": [
    "SBMLmodel = Path(\"iJV803_M_album_BG8_GEM_R_full_version_updated.sbml\")\n",
    "model = read_sbml_model(SBMLmodel)"
   ]
  },
  {
   "cell_type": "code",
   "execution_count": 2,
   "metadata": {},
   "outputs": [
    {
     "name": "stderr",
     "output_type": "stream",
     "text": [
      "No defined compartments in model model. Compartments will be deduced heuristically using regular expressions.\n",
      "Using regular expression found the following compartments:c, ce, e, er, erm, g, gm, lp, m, mm, n, p, v, vm\n"
     ]
    },
    {
     "data": {
      "text/html": [
       "<strong><em>Optimal</em> solution with objective value 0.097</strong><br><div>\n",
       "<style scoped>\n",
       "    .dataframe tbody tr th:only-of-type {\n",
       "        vertical-align: middle;\n",
       "    }\n",
       "\n",
       "    .dataframe tbody tr th {\n",
       "        vertical-align: top;\n",
       "    }\n",
       "\n",
       "    .dataframe thead th {\n",
       "        text-align: right;\n",
       "    }\n",
       "</style>\n",
       "<table border=\"1\" class=\"dataframe\">\n",
       "  <thead>\n",
       "    <tr style=\"text-align: right;\">\n",
       "      <th></th>\n",
       "      <th>fluxes</th>\n",
       "      <th>reduced_costs</th>\n",
       "    </tr>\n",
       "  </thead>\n",
       "  <tbody>\n",
       "    <tr>\n",
       "      <th>r_0001</th>\n",
       "      <td>0.00000</td>\n",
       "      <td>-1.135978e-02</td>\n",
       "    </tr>\n",
       "    <tr>\n",
       "      <th>r_0002</th>\n",
       "      <td>0.00000</td>\n",
       "      <td>-1.135978e-02</td>\n",
       "    </tr>\n",
       "    <tr>\n",
       "      <th>r_0003</th>\n",
       "      <td>0.00000</td>\n",
       "      <td>-6.979432e-19</td>\n",
       "    </tr>\n",
       "    <tr>\n",
       "      <th>r_0004</th>\n",
       "      <td>0.00000</td>\n",
       "      <td>-1.734723e-18</td>\n",
       "    </tr>\n",
       "    <tr>\n",
       "      <th>r_0005</th>\n",
       "      <td>0.09026</td>\n",
       "      <td>-1.474515e-17</td>\n",
       "    </tr>\n",
       "    <tr>\n",
       "      <th>...</th>\n",
       "      <td>...</td>\n",
       "      <td>...</td>\n",
       "    </tr>\n",
       "    <tr>\n",
       "      <th>r_4046</th>\n",
       "      <td>0.70000</td>\n",
       "      <td>-9.826803e-03</td>\n",
       "    </tr>\n",
       "    <tr>\n",
       "      <th>r_4047</th>\n",
       "      <td>0.09741</td>\n",
       "      <td>3.122502e-17</td>\n",
       "    </tr>\n",
       "    <tr>\n",
       "      <th>r_4048</th>\n",
       "      <td>0.09741</td>\n",
       "      <td>9.714451e-17</td>\n",
       "    </tr>\n",
       "    <tr>\n",
       "      <th>r_4049</th>\n",
       "      <td>0.09741</td>\n",
       "      <td>-1.734723e-18</td>\n",
       "    </tr>\n",
       "    <tr>\n",
       "      <th>r_4050</th>\n",
       "      <td>0.09741</td>\n",
       "      <td>-1.084202e-19</td>\n",
       "    </tr>\n",
       "  </tbody>\n",
       "</table>\n",
       "<p>3496 rows × 2 columns</p>\n",
       "</div>"
      ],
      "text/plain": [
       "<Solution 0.097 at 0x2105bcf7ec0>"
      ]
     },
     "execution_count": 2,
     "metadata": {},
     "output_type": "execute_result"
    }
   ],
   "source": [
    "SLIMErModel = Path(\"yeastGEM.mat\")\n",
    "yeastModel = load_matlab_model(SLIMErModel)\n",
    "yeastModel.optimize()\n"
   ]
  },
  {
   "cell_type": "code",
   "execution_count": 9,
   "metadata": {},
   "outputs": [],
   "source": [
    "yeastModel.metabolites.get_by_id(\"s_1351[c]\").formula_weight"
   ]
  },
  {
   "cell_type": "code",
   "execution_count": null,
   "metadata": {},
   "outputs": [],
   "source": [
    "oldSLIMErModel = Path(\"oldYeastModel.sbml\")\n",
    "oldYeastModel = read_sbml_model(oldSLIMErModel)\n",
    "oldYeastModel.optimize()"
   ]
  },
  {
   "cell_type": "code",
   "execution_count": null,
   "metadata": {},
   "outputs": [],
   "source": [
    "write_sbml_model(oldYeastModel, \"oldYeastModel.sbml\")"
   ]
  },
  {
   "cell_type": "code",
   "execution_count": null,
   "metadata": {},
   "outputs": [],
   "source": [
    "yeastModel.solver.reset()\n",
    "yeastModel.optimize()"
   ]
  },
  {
   "cell_type": "code",
   "execution_count": null,
   "metadata": {},
   "outputs": [],
   "source": [
    "import json\n",
    "\n",
    "from cobra.io import to_json\n",
    "\n",
    "yeastModel_json = to_json(yeastModel)\n",
    "with open(\"SLIMErConverted.json\", \"w\") as f:\n",
    "    json.dump(yeastModel_json, f, allow_nan=True)"
   ]
  },
  {
   "cell_type": "code",
   "execution_count": null,
   "metadata": {},
   "outputs": [],
   "source": [
    "write_sbml_model(yeastModel, \"slimeRConverted.xml\")"
   ]
  },
  {
   "cell_type": "code",
   "execution_count": null,
   "metadata": {},
   "outputs": [],
   "source": [
    "for rxn in yeastModel.reactions:\n",
    "    if rxn.objective_coefficient is None or math.isnan(rxn.objective_coefficient):\n",
    "        print()\n",
    "        #rxn.objective_coefficient = 0.0"
   ]
  },
  {
   "cell_type": "code",
   "execution_count": null,
   "metadata": {},
   "outputs": [],
   "source": [
    "for met , coeff in oldYeastModel.reactions.r_4041.metabolites.items():\n",
    "    print(met.name , met.id)"
   ]
  },
  {
   "cell_type": "code",
   "execution_count": null,
   "metadata": {},
   "outputs": [],
   "source": [
    "for met , coeff in yeastModel.reactions.r_4041.metabolites.items():\n",
    "    print(met.name , met.id)"
   ]
  },
  {
   "cell_type": "code",
   "execution_count": null,
   "metadata": {},
   "outputs": [],
   "source": [
    "oldYeastModel.metabolites.get_by_id(\"s_1096\").summary()"
   ]
  },
  {
   "cell_type": "code",
   "execution_count": null,
   "metadata": {},
   "outputs": [],
   "source": [
    "yeastModel.metabolites.get_by_id(\"s_1096[c]\").summary()"
   ]
  },
  {
   "cell_type": "code",
   "execution_count": null,
   "metadata": {},
   "outputs": [],
   "source": [
    "for met , coeff in oldYeastModel.reactions.r_2108.metabolites.items():\n",
    "    print(met.name , met.id)"
   ]
  },
  {
   "cell_type": "code",
   "execution_count": null,
   "metadata": {},
   "outputs": [],
   "source": [
    "for met , coeff in yeastModel.reactions.r_2108.metabolites.items():\n",
    "    print(met.name , met.id)"
   ]
  },
  {
   "cell_type": "code",
   "execution_count": null,
   "metadata": {},
   "outputs": [],
   "source": [
    "for met , coeff in oldYeastModel.reactions.r_0236.metabolites.items():\n",
    "    print(met.name , met.id)\n",
    "\n",
    "oldYeastModel.metabolites.get_by_id(\"s_0296\").summary()"
   ]
  },
  {
   "cell_type": "code",
   "execution_count": null,
   "metadata": {},
   "outputs": [],
   "source": [
    "for met , coeff in yeastModel.reactions.r_0240.metabolites.items():\n",
    "    print(met.name , met.id)\n",
    "\n",
    "yeastModel.metabolites.get_by_id(\"s_1577[c]\").summary()"
   ]
  },
  {
   "cell_type": "code",
   "execution_count": null,
   "metadata": {},
   "outputs": [],
   "source": [
    "save_json_model(yeastModel, \"SLIMErConverted.json\")"
   ]
  },
  {
   "cell_type": "code",
   "execution_count": null,
   "metadata": {},
   "outputs": [],
   "source": [
    "solution = yeastModel.optimize()\n",
    "yeastFluxes = solution.fluxes\n",
    "flux_dict = yeastFluxes.to_dict()\n",
    "with open(\"slimefluxData.json\" , \"w\") as f: \n",
    "    json.dump(flux_dict, f)"
   ]
  },
  {
   "cell_type": "code",
   "execution_count": 78,
   "metadata": {},
   "outputs": [
    {
     "data": {
      "text/plain": [
       "<bound method Model.optimize of <Model  at 0x1c713aaf890>>"
      ]
     },
     "execution_count": 78,
     "metadata": {},
     "output_type": "execute_result"
    }
   ],
   "source": [
    "model.optimize"
   ]
  },
  {
   "cell_type": "code",
   "execution_count": null,
   "metadata": {},
   "outputs": [
    {
     "name": "stdout",
     "output_type": "stream",
     "text": [
      "Phosphatidylethanolamine in the name:\n",
      "  phosphatidylethanolamine-ditetradecanoyl-c\n",
      "  phosphatidylethanolamine-dioctadecanoyl-c\n",
      "  L-2-Lysophosphatidylethanolamine-c\n",
      "  Diisohexadecanoylphosphatidylethanolamine-c\n",
      "  phosphatidylethanolamine-didodecanoyl-c\n",
      "  Dianteisopentadecanoylphosphatidylethanolamine-c\n",
      "  phosphatidylethanolamine-dihexadec-9enoyl-c\n",
      "  Diisopentadecanoylphosphatidylethanolamine-c\n",
      "  phosphatidylethanolamine-dihexadecanoyl-c\n",
      "  Diisotetradecanoylphosphatidylethanolamine-c\n",
      "  Dianteisoheptadecanoylphosphatidylethanolamine-c\n",
      "  phosphatidylethanolamine-ditetradec-7-enoyl-c\n",
      "  phosphatidylethanolamine-dioctadec-11-enoyl-c\n",
      "  Diisoheptadecanoylphosphatidylethanolamine-c\n",
      "\n",
      "Phosphoethanolamine in the name:\n",
      "  1-Acyl-sn-glycero-3-phosphoethanolamine-hexadec-9-enoyl-c\n",
      "  Glycerophosphoethanolamine-c\n",
      "  2-Acyl-sn-glycero-3-phosphoethanolamine-dodecanoyl-c\n",
      "  2-Acyl-sn-glycero-3-phosphoethanolamine-n-C16-0-c\n",
      "  Serine-phosphoethanolamine-c\n",
      "  Phosphoethanolamine-c\n",
      "  2-Acyl-sn-glycero-3-phosphoethanolamine-octadec-11-enoyl-c\n",
      "  2-Acyl-sn-glycero-3-phosphoethanolamine-tetradecanoyl-c\n",
      "  2-Acyl-sn-glycero-3-phosphoethanolamine-n-C18-0-c\n",
      "  1-Alkyl-2-acylglycerophosphoethanolamine-c\n",
      "  1-Acyl-sn-glycero-3-phosphoethanolamine-tetradecanoyl-c\n",
      "  1-Acyl-sn-glycero-3-phosphoethanolamine-dodecanoyl-c\n",
      "  2-Acyl-sn-glycero-3-phosphoethanolamine-tetradec-7-enoyl-c\n",
      "  1-Acyl-sn-glycero-3-phosphoethanolamine-hexadecanoyl-c\n",
      "  1-Acyl-sn-glycero-3-phosphoethanolamine-tetradec-7-enoyl-c\n",
      "  2-Acyl-sn-glycero-3-phosphoethanolamine-hexadec-9-enoyl-c\n",
      "\n",
      "Other metabolites with ethanolamine in the name:\n",
      "  Plasmenylethanolamine-c\n",
      "  CDPethanolamine-c\n",
      "  N-Methylethanolamine-phosphate-c\n",
      "  CDP-N-methylethanolamine-c\n"
     ]
    }
   ],
   "source": [
    "partial_name = \"ethanolamine\"\n",
    "group1 = \"phosphoethanolamine\"\n",
    "group2 = \"phosphatidylethanolamine\"\n",
    "\n",
    "matching_metabolites = [rxn for rxn in model.metabolites if partial_name.lower() in rxn.name.lower()]\n",
    "\n",
    "group1 = [rxn for rxn in matching_metabolites if group1.lower() in rxn.name.lower()]\n",
    "group2 = [rxn for rxn in matching_metabolites if group2.lower() in rxn.name.lower()]\n",
    "others = [rxn for rxn in matching_metabolites if rxn not in group1 and rxn not in group2]\n",
    "\n",
    "print(\"Phosphatidylethanolamine in the name:\")\n",
    "for rxn in group2:\n",
    "    print(f\"  {rxn.name}\")\n",
    "\n",
    "print(\"\\nPhosphoethanolamine in the name:\")\n",
    "for rxn in group1:\n",
    "    print(f\"  {rxn.name}\")\n",
    "\n",
    "print(\"\\nOther metabolites with ethanolamine in the name:\")\n",
    "for rxn in others:\n",
    "    print(f\"  {rxn.name}\")\n"
   ]
  },
  {
   "cell_type": "code",
   "execution_count": 120,
   "metadata": {},
   "outputs": [
    {
     "data": {
      "text/html": [
       "\n",
       "        <table>\n",
       "            <tr>\n",
       "                <td><strong>Metabolite identifier</strong></td><td>Serine_phosphoethanolamine_c</td>\n",
       "            </tr><tr>\n",
       "                <td><strong>Name</strong></td><td>Serine-phosphoethanolamine-c</td>\n",
       "            </tr><tr>\n",
       "                <td><strong>Memory address</strong></td>\n",
       "                <td>0x1c697d67770</td>\n",
       "            </tr><tr>\n",
       "                <td><strong>Formula</strong></td><td>C5H13N2O6P</td>\n",
       "            </tr><tr>\n",
       "                <td><strong>Compartment</strong></td><td>c</td>\n",
       "            </tr><tr>\n",
       "                <td><strong>In 1 reaction(s)</strong></td><td>\n",
       "                    rxn02026_c\n",
       "                    </td>\n",
       "            </tr>\n",
       "        </table>"
      ],
      "text/plain": [
       "<Metabolite Serine_phosphoethanolamine_c at 0x1c697d67770>"
      ]
     },
     "execution_count": 120,
     "metadata": {},
     "output_type": "execute_result"
    }
   ],
   "source": [
    "model.metabolites.get_by_id(\"Serine_phosphoethanolamine_c\")"
   ]
  },
  {
   "cell_type": "code",
   "execution_count": null,
   "metadata": {},
   "outputs": [],
   "source": []
  },
  {
   "cell_type": "code",
   "execution_count": null,
   "metadata": {},
   "outputs": [
    {
     "name": "stdout",
     "output_type": "stream",
     "text": [
      "Diisohexadecanoylphosphatidylglycerol_c\n",
      "Phosphatidylglycerol_dihexadec_9_enoyl_c\n",
      "Phosphatidylglycerol_dioctadecanoyl_c\n",
      "Phosphatidylglycerol_ditetradec_7_enoyl_c\n",
      "Diisoheptadecanoylphosphatidylglycerol_c\n",
      "Dianteisopentadecanoylphosphatidylglycerol_c\n",
      "Dianteisoheptadecanoylphosphatidylglycerol_c\n",
      "Phosphatidylglycerol_ditetradecanoyl_c\n",
      "Phosphatidylglycerol_didodecanoyl_c\n",
      "Diisotetradecanoylphosphatidylglycerol_c\n",
      "Phosphatidylglycerol_dihexadecanoyl_c\n",
      "Phosphatidylglycerol_dioctadec_11_enoyl_c\n",
      "Diisopentadecanoylphosphatidylglycerol_c\n"
     ]
    }
   ],
   "source": [
    "partial_name = \"phosphatidylglycerol\"\n",
    "\n",
    "matching_reactions = [rxn for rxn in model.metabolites if partial_name.lower() in rxn.name.lower()]\n",
    "\n",
    "if matching_reactions:\n",
    "    for rxn in matching_reactions:\n",
    "        print(f\"{rxn.id}\")\n",
    "else:\n",
    "    print(\"No reactions found containing that name.\")"
   ]
  },
  {
   "cell_type": "code",
   "execution_count": null,
   "metadata": {},
   "outputs": [
    {
     "name": "stdout",
     "output_type": "stream",
     "text": [
      "Isoheptadecanoylcardiolipin_B_subtilis_c\n",
      "Stearoylcardiolipin_B_subtilis_c\n",
      "Anteisoheptadecanoylcardiolipin_B_subtilis_c\n"
     ]
    }
   ],
   "source": [
    "partial_name1 = \"cardiolipin\"\n",
    "partial_name2 = \"diphosphatidylglycerol\"\n",
    "\n",
    "matching_reactions = [rxn for rxn in model.metabolites if partial_name1.lower() in rxn.name.lower() or partial_name2.lower() in rxn.name.lower()]\n",
    "\n",
    "if matching_reactions:\n",
    "    for rxn in matching_reactions:\n",
    "        print(f\"{rxn.id}\")\n",
    "else:\n",
    "    print(\"No reactions found containing that name.\")"
   ]
  },
  {
   "cell_type": "code",
   "execution_count": 114,
   "metadata": {},
   "outputs": [
    {
     "data": {
      "text/html": [
       "<h3>Stearoylcardiolipin_B_subtilis_c</h3><p>C81H156O17P2</p><h4>Producing Reactions</h4><table border=\"1\" class=\"dataframe\">\n",
       "  <thead>\n",
       "    <tr style=\"text-align: right;\">\n",
       "      <th>Percent</th>\n",
       "      <th>Flux</th>\n",
       "      <th>Reaction</th>\n",
       "      <th>Definition</th>\n",
       "    </tr>\n",
       "  </thead>\n",
       "  <tbody>\n",
       "    <tr>\n",
       "      <td>100.00%</td>\n",
       "      <td>0.001223</td>\n",
       "      <td>rxn10336_c</td>\n",
       "      <td>2.0 Phosphatidylglycerol_dioctadecanoyl_c --&gt; Glycerol_c + Stearoylcardiolipin_B_subtilis_c</td>\n",
       "    </tr>\n",
       "  </tbody>\n",
       "</table><h4>Consuming Reactions</h4><table border=\"1\" class=\"dataframe\">\n",
       "  <thead>\n",
       "    <tr style=\"text-align: right;\">\n",
       "      <th>Percent</th>\n",
       "      <th>Flux</th>\n",
       "      <th>Reaction</th>\n",
       "      <th>Definition</th>\n",
       "    </tr>\n",
       "  </thead>\n",
       "  <tbody>\n",
       "    <tr>\n",
       "      <td>100.00%</td>\n",
       "      <td>-0.001223</td>\n",
       "      <td>biomass1_lowFA_HighGAM</td>\n",
       "      <td>0.0030965 10_Formyltetrahydrofolate_c + 0.0030965 2_Demethylmenaquinone_8_c + 3e-06 2_Keto_3_deoxy_6_phosphogluconate_c + 0.009 3_Phosphoglycerate_c + 0.0030965 5_Methyltetrahydrofolate_c + 0.00015 6_Phospho_D_gluconate_c + 0.0030965 ACP_c + 0.001 AMP_c + 59.81 ATP_c + 0.0001 Acetyl_CoA_c + 0.010648 Anteisoheptadecanoylcardiolipin_B_subtilis_c + 0.025011 Bactoprenyl_diphosphate_c + 0.047 CTP_c + 0.01 Ca2_c + 0.0030965 Calomide_c + 0.001 Citrate_c + 0.0030965 Cl__c + 0.001 Co2_c + 0.00022 CoA_c + 0.01 Cu2_c + DNA_replication_c + 0.042 D_Glucose_c + 0.036 D_Ribose_c + 0.001 D_Ribulose5_phosphate_c + 0.001 D_fructose_1_6_bisphosphate_c + 0.003 D_fructose_6_phosphate_c + 0.002 D_glucose_6_phosphate_c + 0.0122 Dianteisoheptadecanoylphosphatidylethanolamine_c + 0.010648 Dianteisoheptadecanoylphosphatidylglycerol_c + 0.010648 Diisoheptadecanoylphosphatidylethanolamine_c + 0.010648 Diisoheptadecanoylphosphatidylglycerol_c + 0.00022 FAD_c + 0.00022 FMNH2_c + 0.00022 FMN_c + 0.0059 Fe2_c + 0.001 Fumarate_c + 0.00022 GSH_c + 0.1462 GTP_c + 0.003 Glyceraldehyde3_phosphate_c + 0.001 Glycerate_c + 0.45473 Glycine_c + 0.117 Glycogen_c + 59.81 H2O_c + 0.00022 Heme_c + 0.010648 Isoheptadecanoylcardiolipin_B_subtilis_c + 0.0030965 K_c + 0.3471 L_Alanine_c + 0.17298 L_Arginine_c + 0.119 L_Asparagine_c + 0.2992 L_Aspartate_c + 0.035128 L_Cysteine_c + 0.286 L_Glutamate_c + 0.15 L_Glutamine_c + 0.092158 L_Histidine_c + 0.21497 L_Isoleucine_c + 0.36859 L_Leucine_c + 0.13229 L_Lysine_c + 0.004 L_Malate_c + 0.09139 L_Methionine_c + 0.23527 L_Phenylalanine_c + 0.16889 L_Proline_c + 0.19828 L_Serine_c + 0.24424 L_Threonine_c + 0.072 L_Tryptophan_c + 0.1029 L_Tyrosine_c + 0.26144 L_Valine_c + 0.008 Maltose_c + 0.0030965 Menaquinone_8_c + 0.07 Mg_c + 0.0030965 Mn2_c + 0.00042 Myristic_acid_c + 0.002 NADH_c + 0.001 NADPH_c + 0.001 NADP_c + 0.002 NAD_c + 0.00287 Palmitate_c + 0.02057 Palmitoleic_acid_c + 0.053 Peptidoglycan_polymer_n_subunits_c + 0.0031 Phosphatidylglycerol_dioctadecanoyl_c + 0.005 Phosphoenolpyruvate_c + Protein_biosynthesis_c + 0.0030965 Putrescine_c + 0.0030965 Pyridoxal_phosphate_c + 0.015 Pyruvate_c + RNA_transcription_c + 0.0030965 Riboflavin_c + 0.00022 S_Adenosyl_L_methionine_c + 0.0030965 Siroheme_c + 0.0030965 Spermidine_c + 0.010648 Stearoylcardiolipin_B_subtilis_c + 0.002 Succinate_c + 0.01 Sucrose_c + 0.004 Sulfate_c + 0.0030965 TPP_c + 0.02169 TTP_c + 0.0030965 Tetrahydrofolate_c + 0.17404 UTP_c + 0.00022 Ubiquinol_8_c + 0.0030965 Ubiquinone_8_c + 0.0030965 Zn2_c + 0.025011 core_oligosaccharide_lipid_A_c + 0.0221 dATP_c + 0.13503 dCTP_c + 0.02935 dGTP_c + 0.0059 fe3_c + 0.00035 ocdca_c + 0.122 phosphatidylethanolamine_dioctadecanoyl_c + 0.0014 phosphatidylserine_didodecanoyl_c --&gt; 59.81 ADP_c + Biomass_c + 0.0030965 Cobinamide_c + 0.0030965 Dimethylbenzimidazole_c + 59.81 H_c + 0.4846 PPi_c + 0.053 Peptidoglycan_polymer_n_1_subunits_c + 59.81 Phosphate_c + 0.0030965 apo_ACP_c</td>\n",
       "    </tr>\n",
       "  </tbody>\n",
       "</table>"
      ],
      "text/plain": [
       "<cobra.summary.metabolite_summary.MetaboliteSummary at 0x1c6ea63d070>"
      ]
     },
     "execution_count": 114,
     "metadata": {},
     "output_type": "execute_result"
    }
   ],
   "source": [
    "model.reactions.rxn10336_c.gene_reaction_rule\n",
    "model.metabolites.get_by_id(\"Stearoylcardiolipin_B_subtilis_c\").summary()"
   ]
  },
  {
   "cell_type": "code",
   "execution_count": 89,
   "metadata": {},
   "outputs": [
    {
     "name": "stdout",
     "output_type": "stream",
     "text": [
      "Diisohexadecanoylphosphatidylserine_c\n",
      "Diisotetradecanoylphosphatidylserine_c\n",
      "phosphatidylserine_ditetradecanoyl_c\n",
      "phosphatidylserine_dihexadec_9_enoyl_c\n",
      "phosphatidylserine_dioctadecanoyl_c\n",
      "Dianteisopentadecanoylphosphatidylserine_c\n",
      "Dianteisoheptadecanoylphosphatidylserine_c\n",
      "phosphatidylserine_didodecanoyl_c\n",
      "Diisopentadecanoylphosphatidylserine_c\n",
      "phosphatidylserine_dihexadecanoyl_c\n",
      "Diisoheptadecanoylphosphatidylserine_c\n",
      "phosphatidylserine_dioctadec_11_enoyl_c\n",
      "phosphatidylserine_ditetradec_7_enoyl_c\n"
     ]
    }
   ],
   "source": [
    "partial_name = \"phosphatidylserine\"\n",
    "matching_reactions = [rxn for rxn in model.metabolites if partial_name.lower() in rxn.name.lower()]\n",
    "\n",
    "if matching_reactions:\n",
    "    for rxn in matching_reactions:\n",
    "        print(f\"{rxn.id}\")\n",
    "else:\n",
    "    print(\"No reactions found containing that name.\")"
   ]
  },
  {
   "cell_type": "code",
   "execution_count": 111,
   "metadata": {},
   "outputs": [
    {
     "name": "stdout",
     "output_type": "stream",
     "text": [
      "s_1524[c]    :   triglyceride [cytoplasm]\n",
      "s_3011[erm]    :   triglyceride (1-16:0, 2-16:1, 3-16:0) [endoplasmic reticulum membrane]\n",
      "s_3012[erm]    :   triglyceride (1-16:0, 2-18:1, 3-16:0) [endoplasmic reticulum membrane]\n",
      "s_3013[erm]    :   triglyceride (1-16:1, 2-16:1, 3-16:0) [endoplasmic reticulum membrane]\n",
      "s_3014[erm]    :   triglyceride (1-16:1, 2-18:1, 3-16:0) [endoplasmic reticulum membrane]\n",
      "s_3015[erm]    :   triglyceride (1-18:0, 2-16:1, 3-16:0) [endoplasmic reticulum membrane]\n",
      "s_3016[erm]    :   triglyceride (1-18:0, 2-18:1, 3-16:0) [endoplasmic reticulum membrane]\n",
      "s_3017[erm]    :   triglyceride (1-18:1, 2-16:1, 3-16:0) [endoplasmic reticulum membrane]\n",
      "s_3018[erm]    :   triglyceride (1-18:1, 2-18:1, 3-16:0) [endoplasmic reticulum membrane]\n",
      "s_3019[erm]    :   triglyceride (1-16:0, 2-16:1, 3-16:1) [endoplasmic reticulum membrane]\n",
      "s_3020[erm]    :   triglyceride (1-16:0, 2-18:1, 3-16:1) [endoplasmic reticulum membrane]\n",
      "s_3021[erm]    :   triglyceride (1-16:1, 2-16:1, 3-16:1) [endoplasmic reticulum membrane]\n",
      "s_3022[erm]    :   triglyceride (1-16:1, 2-18:1, 3-16:1) [endoplasmic reticulum membrane]\n",
      "s_3023[erm]    :   triglyceride (1-18:0, 2-16:1, 3-16:1) [endoplasmic reticulum membrane]\n",
      "s_3024[erm]    :   triglyceride (1-18:0, 2-18:1, 3-16:1) [endoplasmic reticulum membrane]\n",
      "s_3025[erm]    :   triglyceride (1-18:1, 2-16:1, 3-16:1) [endoplasmic reticulum membrane]\n",
      "s_3026[erm]    :   triglyceride (1-18:1, 2-18:1, 3-16:1) [endoplasmic reticulum membrane]\n",
      "s_3027[erm]    :   triglyceride (1-16:0, 2-16:1, 3-18:0) [endoplasmic reticulum membrane]\n",
      "s_3028[erm]    :   triglyceride (1-16:0, 2-18:1, 3-18:0) [endoplasmic reticulum membrane]\n",
      "s_3029[erm]    :   triglyceride (1-16:1, 2-16:1, 3-18:0) [endoplasmic reticulum membrane]\n",
      "s_3030[erm]    :   triglyceride (1-16:1, 2-18:1, 3-18:0) [endoplasmic reticulum membrane]\n",
      "s_3031[erm]    :   triglyceride (1-18:0, 2-16:1, 3-18:0) [endoplasmic reticulum membrane]\n",
      "s_3032[erm]    :   triglyceride (1-18:0, 2-18:1, 3-18:0) [endoplasmic reticulum membrane]\n",
      "s_3033[erm]    :   triglyceride (1-18:1, 2-16:1, 3-18:0) [endoplasmic reticulum membrane]\n",
      "s_3034[erm]    :   triglyceride (1-18:1, 2-18:1, 3-18:0) [endoplasmic reticulum membrane]\n",
      "s_3035[erm]    :   triglyceride (1-16:0, 2-16:1, 3-18:1) [endoplasmic reticulum membrane]\n",
      "s_3036[erm]    :   triglyceride (1-16:0, 2-18:1, 3-18:1) [endoplasmic reticulum membrane]\n",
      "s_3037[erm]    :   triglyceride (1-16:1, 2-16:1, 3-18:1) [endoplasmic reticulum membrane]\n",
      "s_3038[erm]    :   triglyceride (1-16:1, 2-18:1, 3-18:1) [endoplasmic reticulum membrane]\n",
      "s_3039[erm]    :   triglyceride (1-18:0, 2-16:1, 3-18:1) [endoplasmic reticulum membrane]\n",
      "s_3040[erm]    :   triglyceride (1-18:0, 2-18:1, 3-18:1) [endoplasmic reticulum membrane]\n",
      "s_3041[erm]    :   triglyceride (1-18:1, 2-16:1, 3-18:1) [endoplasmic reticulum membrane]\n",
      "s_3042[erm]    :   triglyceride (1-18:1, 2-18:1, 3-18:1) [endoplasmic reticulum membrane]\n",
      "s_3044[lp]    :   triglyceride (1-16:0, 2-16:1, 3-16:0) [lipid particle]\n",
      "s_3046[lp]    :   triglyceride (1-16:0, 2-18:1, 3-16:0) [lipid particle]\n",
      "s_3048[lp]    :   triglyceride (1-16:1, 2-16:1, 3-16:0) [lipid particle]\n",
      "s_3050[lp]    :   triglyceride (1-16:1, 2-18:1, 3-16:0) [lipid particle]\n",
      "s_3052[lp]    :   triglyceride (1-18:0, 2-16:1, 3-16:0) [lipid particle]\n",
      "s_3054[lp]    :   triglyceride (1-18:0, 2-18:1, 3-16:0) [lipid particle]\n",
      "s_3056[lp]    :   triglyceride (1-18:1, 2-16:1, 3-16:0) [lipid particle]\n",
      "s_3058[lp]    :   triglyceride (1-18:1, 2-18:1, 3-16:0) [lipid particle]\n",
      "s_3059[lp]    :   triglyceride (1-16:0, 2-16:1, 3-16:1) [lipid particle]\n",
      "s_3060[lp]    :   triglyceride (1-16:0, 2-18:1, 3-16:1) [lipid particle]\n",
      "s_3061[lp]    :   triglyceride (1-16:1, 2-16:1, 3-16:1) [lipid particle]\n",
      "s_3062[lp]    :   triglyceride (1-16:1, 2-18:1, 3-16:1) [lipid particle]\n",
      "s_3063[lp]    :   triglyceride (1-18:0, 2-16:1, 3-16:1) [lipid particle]\n",
      "s_3064[lp]    :   triglyceride (1-18:0, 2-18:1, 3-16:1) [lipid particle]\n",
      "s_3065[lp]    :   triglyceride (1-18:1, 2-16:1, 3-16:1) [lipid particle]\n",
      "s_3066[lp]    :   triglyceride (1-18:1, 2-18:1, 3-16:1) [lipid particle]\n",
      "s_3067[lp]    :   triglyceride (1-16:0, 2-16:1, 3-18:0) [lipid particle]\n",
      "s_3068[lp]    :   triglyceride (1-16:0, 2-18:1, 3-18:0) [lipid particle]\n",
      "s_3069[lp]    :   triglyceride (1-16:1, 2-16:1, 3-18:0) [lipid particle]\n",
      "s_3070[lp]    :   triglyceride (1-16:1, 2-18:1, 3-18:0) [lipid particle]\n",
      "s_3071[lp]    :   triglyceride (1-18:0, 2-16:1, 3-18:0) [lipid particle]\n",
      "s_3072[lp]    :   triglyceride (1-18:0, 2-18:1, 3-18:0) [lipid particle]\n",
      "s_3073[lp]    :   triglyceride (1-18:1, 2-16:1, 3-18:0) [lipid particle]\n",
      "s_3074[lp]    :   triglyceride (1-18:1, 2-18:1, 3-18:0) [lipid particle]\n",
      "s_3075[lp]    :   triglyceride (1-16:0, 2-16:1, 3-18:1) [lipid particle]\n",
      "s_3076[lp]    :   triglyceride (1-16:0, 2-18:1, 3-18:1) [lipid particle]\n",
      "s_3077[lp]    :   triglyceride (1-16:1, 2-16:1, 3-18:1) [lipid particle]\n",
      "s_3078[lp]    :   triglyceride (1-16:1, 2-18:1, 3-18:1) [lipid particle]\n",
      "s_3079[lp]    :   triglyceride (1-18:0, 2-16:1, 3-18:1) [lipid particle]\n",
      "s_3080[lp]    :   triglyceride (1-18:0, 2-18:1, 3-18:1) [lipid particle]\n",
      "s_3081[lp]    :   triglyceride (1-18:1, 2-16:1, 3-18:1) [lipid particle]\n",
      "s_3082[lp]    :   triglyceride (1-18:1, 2-18:1, 3-18:1) [lipid particle]\n",
      "s_3713[erm]    :   triglyceride [endoplasmic reticulum membrane]\n"
     ]
    }
   ],
   "source": [
    "partial_name = \"triglyceride\"\n",
    "matching_reactions = [rxn for rxn in yeastModel.metabolites if partial_name.lower() in rxn.name.lower()]\n",
    "\n",
    "if matching_reactions:\n",
    "    for rxn in matching_reactions:\n",
    "        print(f\"{rxn.id}    :   {rxn.name}\")\n",
    "    \n",
    "else:\n",
    "    print(\"No reactions found containing that name.\")"
   ]
  },
  {
   "cell_type": "code",
   "execution_count": null,
   "metadata": {},
   "outputs": [],
   "source": [
    "met = model.metabolites.get_by_id(\"fa4coa_c\")\n",
    "met.summary()\n"
   ]
  },
  {
   "cell_type": "code",
   "execution_count": null,
   "metadata": {},
   "outputs": [],
   "source": [
    "for reaction in model.reactions:\n",
    "    if \"biomass\" in reaction.id.lower():  \n",
    "        print(F\"Reaction ID: {reaction.id}\")\n",
    "        print(F\"Reaction Name: {reaction.name}\")\n",
    "        print(F\"Reaction: {reaction.reaction}\")\n",
    "        print(50 * \"-\")\n"
   ]
  },
  {
   "cell_type": "code",
   "execution_count": null,
   "metadata": {},
   "outputs": [],
   "source": [
    "def download_SBML():\n",
    "    try:\n",
    "        write_sbml_model(model, 'BG8EnhancedModel.xml')\n",
    "\n",
    "        with open('model.xml', 'r') as file:\n",
    "            sbml_content = file.read()\n",
    "\n",
    "        return sbml_content\n",
    "        \n",
    "    except Exception as e:\n",
    "        raise Exception(f\"Error saving or loading SBML model: {str(e)}\")\n",
    "    \n",
    "\n",
    "download_SBML()\n"
   ]
  },
  {
   "cell_type": "code",
   "execution_count": null,
   "metadata": {},
   "outputs": [],
   "source": [
    "solution = model.optimize()\n",
    "fluxes = solution.fluxes\n",
    "flux_dict = fluxes.to_dict()\n",
    "with open(\"fluxData.json\" , \"w\") as f: \n",
    "    json.dump(flux_dict, f)"
   ]
  },
  {
   "cell_type": "code",
   "execution_count": null,
   "metadata": {},
   "outputs": [],
   "source": [
    "solution"
   ]
  },
  {
   "cell_type": "code",
   "execution_count": null,
   "metadata": {},
   "outputs": [],
   "source": [
    "with open(\"rxnsAndMetabolitesJSONS/output_reactions.json\", \"r\") as f:\n",
    "    output_reactions = json.load(f)\n",
    "\n",
    "unique_metabolites = set()\n",
    "\n",
    "for rxn_id in output_reactions:\n",
    "    try:\n",
    "        rxn = model.reactions.get_by_id(rxn_id)\n",
    "        \n",
    "        if rxn.metabolites:\n",
    "            for metabolite in rxn.metabolites:\n",
    "                unique_metabolites.add(metabolite.id)\n",
    "\n",
    "    except KeyError:\n",
    "        print(f\"Reaction {rxn_id} not found in the model\")\n",
    "\n",
    "unique_metabolites_list = sorted(list(unique_metabolites))\n",
    "\n",
    "with open(\"rxnsAndMetabolitesJSONS/unique_metabolites.json\", \"w\") as outfile:\n",
    "    json.dump(unique_metabolites_list, outfile, indent=4)\n",
    "\n",
    "print(\"Unique metabolites written to unique_metabolites.json\")"
   ]
  },
  {
   "cell_type": "code",
   "execution_count": null,
   "metadata": {},
   "outputs": [],
   "source": [
    "with open(\"rxnsAndMetabolitesJSONS/output_reactions.json\", \"r\") as f:\n",
    "    output_reactions = json.load(f)\n",
    "\n",
    "unique_metabolites = set()\n",
    "\n",
    "for rxn_id in output_reactions:\n",
    "    try:\n",
    "        rxn = model.reactions.get_by_id(rxn_id)\n",
    "        \n",
    "        if rxn.metabolites:\n",
    "            for metabolite in rxn.metabolites:\n",
    "                metabolite_id = metabolite.id\n",
    "                \n",
    "                # Filter: ignore metabolites with less than 5 characters or \"ose_c\"\n",
    "                if len(metabolite_id) >= 6 and \"ose_c\" not in metabolite_id:\n",
    "                    unique_metabolites.add(metabolite_id)\n",
    "\n",
    "    except KeyError:\n",
    "        print(f\"Reaction {rxn_id} not found in the model\")\n",
    "\n",
    "unique_metabolites_list = sorted(list(unique_metabolites))\n",
    "\n",
    "\n",
    "with open(\"rxnsAndMetabolitesJSONS/filtered_metabolites.json\", \"w\") as outfile:\n",
    "    json.dump(unique_metabolites_list, outfile, indent=4)\n",
    "\n",
    "print(\"Filtered metabolites written to filtered_metabolites.json\")\n"
   ]
  },
  {
   "cell_type": "code",
   "execution_count": null,
   "metadata": {},
   "outputs": [],
   "source": [
    "with open(\"rxnsAndMetabolitesJSONS/filtered_metabolites.json\") as f:\n",
    "    filtered_metabolite_ids = json.load(f)\n",
    "\n",
    "metabolite_list = []\n",
    "for met_id in filtered_metabolite_ids:\n",
    "    metabolite = model.metabolites.get_by_id(met_id) \n",
    "    metabolite_list.append({\n",
    "        \"id\": met_id,\n",
    "        \"name\": metabolite.name if metabolite else \"Unknown\",\n",
    "        \"compartment\": metabolite.compartment if metabolite else \"Unknown\"\n",
    "    })\n",
    "\n",
    "df = pd.DataFrame(metabolite_list)\n",
    "\n",
    "print(df)\n",
    "\n",
    "with open(\"rxnsAndMetabolitesJSONS/metabolites_summary.json\", \"w\") as f:\n",
    "    json.dump(metabolite_list, f, indent=4)"
   ]
  },
  {
   "cell_type": "code",
   "execution_count": null,
   "metadata": {},
   "outputs": [],
   "source": [
    "#ddca_c  = dodecanoate\n",
    "\n",
    "reactions = [\n",
    "    {\"id\": \"rxn08803_c\", \"reactants\": [\"H2O_c\", \"1_Acyl_sn_glycero_3_phosphoethanolamine_dodecanoyl_c\"], \"products\": [\"H_c\", \"Glycerophosphoethanolamine_c\", \"ddca_c\"]},\n",
    "    {\"id\": \"rxn08804_c\", \"reactants\": [\"H2O_c\", \"1_Acyl_sn_glycero_3_phosphoethanolamine_tetradecanoyl_c\"], \"products\": [\"H_c\", \"Glycerophosphoethanolamine_c\", \"Myristic_acid_c\"]},\n",
    "    {\"id\": \"rxn08806_c\", \"reactants\": [\"H2O_c\", \"1_Acyl_sn_glycero_3_phosphoethanolamine_hexadecanoyl_c\"], \"products\": [\"H_c\", \"Glycerophosphoethanolamine_c\", \"Palmitate_c\"]},\n",
    "    {\"id\": \"rxn08808_c\", \"reactants\": [\"H2O_c\", \"H_c\", \"L_2_Lysophosphatidylethanolamine_c\"], \"products\": [\"H_c\", \"Glycerophosphoethanolamine_c\", \"ocdca_c\"]},\n",
    "    {\"id\": \"rxn08805_c\", \"reactants\": [\"H2O_c\", \"1_Acyl_sn_glycero_3_phosphoethanolamine_tetradec_7_enoyl_c\"], \"products\": [\"H_c\", \"Glycerophosphoethanolamine_c\", \"tetradecenoate_c\"]},\n",
    "    {\"id\": \"rxn08807_c\", \"reactants\": [\"H2O_c\", \"2_Acyl_sn_glycero_3_phosphoethanolamine_hexadec_9_enoyl_c\"], \"products\": [\"H_c\", \"Glycerophosphoethanolamine_c\", \"hexadecenoate_c\"]},\n",
    "    {\"id\": \"rxn08809_c\", \"reactants\": [\"H2O_c\", \"L_2_Lysophosphatidylethanolamine_c\"], \"products\": [\"H_c\", \"Glycerophosphoethanolamine_c\", \"octadecenoate_c\"]},\n",
    "    {\"id\": \"rxn08838_c\", \"reactants\": [\"H2O_c\", \"2_Acyl_sn_glycero_3_phosphoethanolamine_dodecanoyl_c\"], \"products\": [\"H_c\", \"Glycerophosphoethanolamine_c\", \"ddca_c\"]},\n",
    "    {\"id\": \"rxn08839_c\", \"reactants\": [\"H2O_c\", \"2_Acyl_sn_glycero_3_phosphoethanolamine_tetradecanoyl_c\"], \"products\": [\"H_c\", \"Glycerophosphoethanolamine_c\", \"Myristic_acid_c\"]},\n",
    "    {\"id\": \"rxn08841_c\", \"reactants\": [\"H2O_c\", \"2_Acyl_sn_glycero_3_phosphoethanolamine_n_C16_0_c\"], \"products\": [\"H_c\", \"Glycerophosphoethanolamine_c\", \"Palmitate_c\"]},\n",
    "    {\"id\": \"rxn08843_c\", \"reactants\": [\"H2O_c\", \"2_Acyl_sn_glycero_3_phosphoethanolamine_n_C18_0_c\"], \"products\": [\"H_c\", \"Glycerophosphoethanolamine_c\", \"ocdca_c\"]},\n",
    "    {\"id\": \"rxn08840_c\", \"reactants\": [\"H2O_c\", \"2_Acyl_sn_glycero_3_phosphoethanolamine_tetradec_7_enoyl_c\"], \"products\": [\"H_c\", \"Glycerophosphoethanolamine_c\", \"tetradecenoate_c\"]},\n",
    "    {\"id\": \"rxn08842_c\", \"reactants\": [\"H2O_c\", \"1_Acyl_sn_glycero_3_phosphoethanolamine_hexadec_9_enoyl_c\"], \"products\": [\"H_c\", \"Glycerophosphoethanolamine_c\", \"hexadecenoate_c\"]},\n",
    "    {\"id\": \"rxn08844_c\", \"reactants\": [\"H2O_c\", \"2_Acyl_sn_glycero_3_phosphoethanolamine_octadec_11_enoyl_c\"], \"products\": [\"H_c\", \"Glycerophosphoethanolamine_c\", \"octadecenoate_c\"]},\n",
    "    {\"id\": \"rxn08796_c\", \"reactants\": [\"H2O_c\", \"1_dodecanoyl_sn_glycerol_3_phosphate_c\"], \"products\": [\"H_c\", \"Glycerol_3_phosphate_c\", \"ddca_c\"]},\n",
    "    {\"id\": \"rxn08797_c\", \"reactants\": [\"H2O_c\", \"1_tetradecanoyl_sn_glycerol_3_phosphate_c\"], \"products\": [\"H_c\", \"Glycerol_3_phosphate_c\", \"Myristic_acid_c\"]},\n",
    "    {\"id\": \"rxn08799_c\", \"reactants\": [\"H2O_c\", \"1_hexadecanoyl_sn_glycerol_3_phosphate_c\"], \"products\": [\"H_c\", \"Glycerol_3_phosphate_c\", \"Palmitate_c\"]},\n",
    "    {\"id\": \"rxn08801_c\", \"reactants\": [\"H2O_c\", \"1_octadec_11_enoyl_sn_glycerol_3_phosphate_c\"], \"products\": [\"H_c\", \"Glycerol_3_phosphate_c\", \"ocdca_c\"]},\n",
    "    {\"id\": \"rxn08798_c\", \"reactants\": [\"H2O_c\", \"1_tetradec_7_enoyl_sn_glycerol_3_phosphate_c\"], \"products\": [\"H_c\", \"Glycerol_3_phosphate_c\", \"tetradecenoate_c\"]},\n",
    "    {\"id\": \"rxn08800_c\", \"reactants\": [\"H2O_c\", \"1_hexadec_9_enoyl_sn_glycerol_3_phosphate_c\"], \"products\": [\"H_c\", \"hexadecenoate_c\", \"Glycerol_3_phosphate_c\"]},\n",
    "    {\"id\": \"rxn08802_c\", \"reactants\": [\"H2O_c\", \"1_octadec_11_enoyl_sn_glycerol_3_phosphate_c\"], \"products\": [\"H_c\", \"Glycerol_3_phosphate_c\", \"octadecenoate_c\"]},\n",
    "    {\"id\": \"rxn08817_c\", \"reactants\": [\"H2O_c\", \"2_dodecanoyl_sn_glycerol_3_phosphate_c\"], \"products\": [\"H_c\", \"Glycerol_3_phosphate_c\", \"ddca_c\"]},\n",
    "    {\"id\": \"rxn08818_c\", \"reactants\": [\"H2O_c\", \"2_tetradecanoyl_sn_glycerol_3_phosphate_c\"], \"products\": [\"H_c\", \"Glycerol_3_phosphate_c\", \"Myristic_acid_c\"]},\n",
    "    {\"id\": \"rxn08820_c\", \"reactants\": [\"H2O_c\", \"2_hexadecanoyl_sn_glycerol_3_phosphate_c\"], \"products\": [\"H_c\", \"Glycerol_3_phosphate_c\", \"Palmitate_c\"]},\n",
    "    {\"id\": \"rxn08822_c\", \"reactants\": [\"H2O_c\", \"2_octadecanoyl_sn_glycerol_3_phosphate_c\"], \"products\": [\"H_c\", \"Glycerol_3_phosphate_c\", \"ocdca_c\"]},\n",
    "    {\"id\": \"rxn08819_c\", \"reactants\": [\"H2O_c\", \"2_tetradec_7_enoyl_sn_glycerol_3_phosphate_c\"], \"products\": [\"H_c\", \"Glycerol_3_phosphate_c\", \"tetradecenoate_c\"]},\n",
    "    {\"id\": \"rxn08821_c\", \"reactants\": [\"H2O_c\", \"2_hexadec_9_enoyl_sn_glycerol_3_phosphate_c\"], \"products\": [\"H_c\", \"Glycerol_3_phosphate_c\", \"hexadecenoate_c\"]},\n",
    "    {\"id\": \"rxn08823_c\", \"reactants\": [\"H2O_c\", \"2_octadec_11_enoyl_sn_glycerol_3_phosphate_c\"], \"products\": [\"H_c\", \"Glycerol_3_phosphate_c\", \"octadecenoate_c\"]},\n",
    "    {\"id\": \"rxn08810_c\", \"reactants\": [\"H2O_c\", \"1_Acyl_sn_glycero_3_phosphoglycerol_dodecanoyl_c\"], \"products\": [\"H_c\", \"ddca_c\", \"Glycerophosphoglycerol_c\"]},\n",
    "    {\"id\": \"rxn08811_c\", \"reactants\": [\"H2O_c\", \"1_Acyl_sn_glycero_3_phosphoglycerol_tetradecanoyl_c\"], \"products\": [\"H_c\", \"Glycerophosphoglycerol_c\", \"Myristic_acid_c\"]},\n",
    "    {\"id\": \"rxn08813_c\", \"reactants\": [\"H2O_c\", \"1_Acyl_sn_glycero_3_phosphoglycerol_hexadecanoyl_c\"], \"products\": [\"H_c\", \"Glycerophosphoglycerol_c\", \"Palmitate_c\"]},\n",
    "    {\"id\": \"rxn08815_c\", \"reactants\": [\"H2O_c\", \"1_Acyl_sn_glycero_3_phosphoglycerol_octadecanoyl_c\"], \"products\": [\"H_c\", \"Glycerophosphoglycerol_c\", \"ocdca_c\"]},\n",
    "    {\"id\": \"rxn08812_c\", \"reactants\": [\"H2O_c\", \"1_Acyl_sn_glycero_3_phosphoglycerol_tetradec_7_enoyl_c\"], \"products\": [\"H_c\", \"Glycerophosphoglycerol_c\", \"tetradecenoate_c\"]},\n",
    "    {\"id\": \"rxn08814_c\", \"reactants\": [\"H2O_c\", \"1_Acyl_sn_glycero_3_phosphoglycerol_hexadec_9_enoyl_c\"], \"products\": [\"H_c\", \"hexadecenoate_c\", \"Glycerophosphoglycerol_c\"]},\n",
    "    {\"id\": \"rxn08816_c\", \"reactants\": [\"H2O_c\", \"1_Acyl_sn_glycero_3_phosphoglycerol_octadec_11_enoyl_c\"], \"products\": [\"H_c\", \"octadecenoate_c\", \"Glycerophosphoglycerol_c\"]},\n",
    "    {\"id\": \"rxn08845_c\", \"reactants\": [\"H2O_c\", \"2_Acyl_sn_glycero_3_phosphoglycerol_dodecanoyl_c\"], \"products\": [\"H_c\", \"ddca_c\", \"Glycerophosphoglycerol_c\"]},\n",
    "    {\"id\": \"rxn08846_c\", \"reactants\": [\"H2O_c\", \"2_Acyl_sn_glycero_3_phosphoglycerol_tetradecanoyl_c\"], \"products\": [\"H_c\", \"Glycerophosphoglycerol_c\", \"Myristic_acid_c\"]},\n",
    "    {\"id\": \"rxn08848_c\", \"reactants\": [\"H2O_c\", \"2_Acyl_sn_glycero_3_phosphoglycerol_hexadecanoyl_c\"], \"products\": [\"H_c\", \"Glycerophosphoglycerol_c\", \"Palmitate_c\"]},\n",
    "    {\"id\": \"rxn08850_c\", \"reactants\": [\"H2O_c\", \"2_Acyl_sn_glycero_3_phosphoglycerol_octadecanoyl_c\"], \"products\": [\"H_c\", \"Glycerophosphoglycerol_c\", \"ocdca_c\"]},\n",
    "    {\"id\": \"rxn08847_c\", \"reactants\": [\"H2O_c\", \"2_Acyl_sn_glycero_3_phosphoglycerol_tetradec_7_enoyl_c\"], \"products\": [\"H_c\", \"Glycerophosphoglycerol_c\", \"tetradecenoate_c\"]},\n",
    "    {\"id\": \"rxn08849_c\", \"reactants\": [\"H2O_c\", \"2_Acyl_sn_glycero_3_phosphoglycerol_hexadec_9_enoyl_c\"], \"products\": [\"H_c\", \"Glycerophosphoglycerol_c\", \"hexadecenoate_c\"]},\n",
    "    {\"id\": \"rxn08851_c\", \"reactants\": [\"H2O_c\", \"2_Acyl_sn_glycero_3_phosphoglycerol_octadec_11_enoyl_c\"], \"products\": [\"H_c\", \"Glycerophosphoglycerol_c\", \"octadecenoate_c\"]},\n",
    "]"
   ]
  },
  {
   "cell_type": "code",
   "execution_count": null,
   "metadata": {},
   "outputs": [],
   "source": [
    "met = model.metabolites.get_by_id(\"1_Acyl_sn_glycero_3_phosphoethanolamine_dodecanoyl_c\")\n",
    "met"
   ]
  },
  {
   "cell_type": "code",
   "execution_count": null,
   "metadata": {},
   "outputs": [],
   "source": [
    "rxn = model.reactions.get_by_id(\"rxn08803_c\")\n",
    "rxn"
   ]
  },
  {
   "cell_type": "code",
   "execution_count": null,
   "metadata": {},
   "outputs": [],
   "source": [
    "G = nx.DiGraph()\n",
    "\n",
    "reactions = [\n",
    "    (\"1-Acyl-PE (dodecanoyl)\", \"Glycerophosphoethanolamine\")\n",
    "    (\"1-Acyl-PE (dodecanoyl)\", \"Dodecanoate (ddca)\")\n",
    "    (\"1-Acyl-PE (tetradecanoyl)\", \"Glycerophosphoethanolamine\")\n",
    "    (\"1-Acyl-PE (tetradecanoyl)\", \"Myristic acid\")\n",
    "    (\"1-Acyl-PE (hexadecanoyl)\", \"Glycerophosphoethanolamine\")\n",
    "    (\"1-Acyl-PE (hexadecanoyl)\", \"Palmitate\")\n",
    "    (\"Lysophosphatidylethanolamine\", \"Glycerophosphoethanolamine\")\n",
    "    (\"Lysophosphatidylethanolamine\", \"ocdca\")\n",
    "    (\"1-Acyl-PE (tetradec_7_enoyl)\", \"Glycerophosphoethanolamine\")\n",
    "    (\"1-Acyl-PE (tetradec_7_enoyl)\", \"Tetradecenoate\")\n",
    "\n",
    "    (\"2-Acyl-PE (dodecanoyl)\", \"Glycerophosphoethanolamine\")\n",
    "    (\"2-Acyl-PE (dodecanoyl)\", \"Dodecanoate (ddca)\")\n",
    "    (\"2-Acyl-PE (tetradecanoyl)\", \"Glycerophosphoethanolamine\")\n",
    "    (\"2-Acyl-PE (tetradecanoyl)\", \"Myristic acid\")\n",
    "    (\"2-Acyl-PE (hexadecanoyl)\", \"Glycerophosphoethanolamine\")\n",
    "    (\"2-Acyl-PE (hexadecanoyl)\", \"Palmitate\")\n",
    "    \n",
    "    (\"2-Acyl-PE (octadec_11_enoyl)\", \"Glycerophosphoethanolamine\")\n",
    "    (\"2-Acyl-PE (octadec_11_enoyl)\", \"Octadecenoate\")\n",
    "    (\"1-Acyl-G3P (dodecanoyl)\", \"Glycerophosphoglycerol\")\n",
    "    (\"1-Acyl-G3P (dodecanoyl)\", \"Dodecanoate (ddca)\")\n",
    "    (\"1-Acyl-G3P (tetradecanoyl)\", \"Glycerophosphoglycerol\")\n",
    "    (\"1-Acyl-G3P (tetradecanoyl)\", \"Myristic acid\")\n",
    "    (\"1-Acyl-G3P (hexadecanoyl)\", \"Glycerophosphoglycerol\")\n",
    "    (\"1-Acyl-G3P (hexadecanoyl)\", \"Palmitate\")\n",
    "    (\"1-Acyl-G3P (octadecanoyl)\", \"Glycerophosphoglycerol\")\n",
    "    (\"1-Acyl-G3P (octadecanoyl)\", \"ocdca\")\n",
    "    (\"1-Acyl-G3P (tetradec_7_enoyl)\", \"Glycerophosphoglycerol\")\n",
    "    (\"1-Acyl-G3P (tetradec_7_enoyl)\", \"Tetradecenoate\")\n",
    "    (\"2-Acyl-G3P (dodecanoyl)\", \"Glycerophosphoglycerol\")\n",
    "    (\"2-Acyl-G3P (dodecanoyl)\", \"Dodecanoate (ddca)\")\n",
    "    (\"2-Acyl-G3P (tetradecanoyl)\", \"Glycerophosphoglycerol\")\n",
    "    (\"2-Acyl-G3P (tetradecanoyl)\", \"Myristic acid\")\n",
    "    (\"2-Acyl-G3P (hexadecanoyl)\", \"Glycerophosphoglycerol\")\n",
    "    (\"2-Acyl-G3P (hexadecanoyl)\", \"Palmitate\")\n",
    "    (\"2-Acyl-G3P (octadecanoyl)\", \"Glycerophosphoglycerol\")\n",
    "    (\"2-Acyl-G3P (octadecanoyl)\", \"ocdca\")\n",
    "    (\"2-Acyl-G3P (tetradec_7_enoyl)\", \"Glycerophosphoglycerol\")\n",
    "    (\"2-Acyl-G3P (tetradec_7_enoyl)\", \"Tetradecenoate\")\n",
    "    (\"2-Acyl-G3P (hexadec_9_enoyl)\", \"Glycerophosphoglycerol\")\n",
    "    (\"2-Acyl-G3P (hexadec_9_enoyl)\", \"Hexadecenoate\")\n",
    "    (\"2-Acyl-G3P (octadec_11_enoyl)\", \"Glycerophosphoglycerol\")\n",
    "    (\"2-Acyl-G3P (octadec_11_enoyl)\", \"Octadecenoate\")\n",
    "]\n",
    "\n",
    "# Add nodes and edges\n",
    "for reactant, product in reactions:\n",
    "    G.add_edge(reactant, product)\n",
    "\n",
    "# Define categories\n",
    "fatty_acids = {\"Dodecanoate\", \"Myristic acid\", \"Tetradecenoate\", \"Palmitate\", \"Octadecenoate\"}\n",
    "backbones = {\"Glycerophosphoethanolamine\", \"Glycerophosphoglycerol\", \"Glycerol-3-phosphate\"}\n",
    "\n",
    "# Assign colors\n",
    "node_colors = []\n",
    "for node in G.nodes():\n",
    "    if node in fatty_acids:\n",
    "        node_colors.append(\"lightcoral\")  # Fatty acids = Red\n",
    "    elif node in backbones:\n",
    "        node_colors.append(\"lightgreen\")  # Backbones = Green\n",
    "    else:\n",
    "        node_colors.append(\"lightblue\")  # Others = Blue\n",
    "\n",
    "# Draw graph\n",
    "plt.figure(figsize=(100, 60))\n",
    "pos = nx.spring_layout(G, seed=42, k=1.5)\n",
    "nx.draw(G, pos, with_labels=True, node_size=20000, node_color=node_colors, edge_color=\"gray\", font_size=40, font_weight=\"bold\")\n",
    "plt.title(\"Phospholipid Deacylation Pathway\")\n",
    "plt.show()\n"
   ]
  },
  {
   "cell_type": "code",
   "execution_count": null,
   "metadata": {},
   "outputs": [],
   "source": [
    "partial_names = [\n",
    "    \"dodec\", \"tetra\", \"tridec\", \"penta\", \"hexa\", \"octa\", \"hepta\", \"methyl\",\n",
    "    \"propyl\", \"decanoyl\", \"palmi\", \"doco\", \"erucic\", \"icosen\", \"lauroyl\",\n",
    "    \"myrist\", \"nervon\", \"propionyl\", \"tiglyl\", \"lipid\", \"fa11\", \"fa12\",\n",
    "    \"fa1\", \"fa3\", \"fa4\", \"fa6\", \"ethanolamine\", \"ddca\", \"ocdca\",\n",
    "    \"phosphoglycerol\", \"phosphotidate\", \"phosphotidyl\"\n",
    "]\n",
    "\n",
    "excluded_metabolites = {\n",
    "    \"tetrahydrofolate\",\n",
    "    \"5_10_Methylenetetrahydrofolate\",\n",
    "    \"cyclohexanone\",\n",
    "    \"dimethylbenzimidazole\",\n",
    "    \"5_Methylcytosine\",\n",
    "    \"S_Aminomethyldihydrolipoylprotein\",\n",
    "    \"propionyl_phosphate\",\n",
    "    \"hexanesulfonate\",\n",
    "    \"6_Hydroxymethyl_dihydropterin\"\n",
    "}\n",
    "\n",
    "matching_metabolites = {\n",
    "    met.id: {\n",
    "        \"id\": met.id,\n",
    "        \"name\": met.name,\n",
    "        \"compartment\": met.compartment,\n",
    "        \"charge\": met.charge,\n",
    "        \"formula\": met.formula\n",
    "    }\n",
    "    for met in model.metabolites\n",
    "    if any(partial.lower() in met.name.lower() for partial in partial_names)  \n",
    "    and not any(excluded.lower() in met.name.lower() for excluded in excluded_metabolites)  \n",
    "}\n",
    "\n",
    "with open(\"rxnsAndMetabolitesJSONS/whole_model_filtered_metabolites.json\", \"w\") as f:\n",
    "    json.dump(list(matching_metabolites.keys()), f, indent=4)\n",
    "\n",
    "with open(\"rxnsAndMetabolitesJSONS/whole_model_metabolites_summary.json\", \"w\") as f:\n",
    "    json.dump(list(matching_metabolites.values()), f, indent=4)\n",
    "\n",
    "df = pd.DataFrame(matching_metabolites.values())\n",
    "print(df)\n"
   ]
  },
  {
   "cell_type": "code",
   "execution_count": null,
   "metadata": {},
   "outputs": [],
   "source": [
    "with open(\"rxnsAndMetabolitesJSONS/filtered_metabolites.json\") as f:\n",
    "    filtered_metabolites = set(json.load(f)) \n",
    "\n",
    "with open(\"rxnsAndMetabolitesJSONS/whole_model_filtered_metabolites.json\") as f:\n",
    "    whole_model_filtered_metabolites = set(json.load(f))  \n",
    "\n",
    "count_filtered = len(filtered_metabolites)\n",
    "count_whole_model_filtered = len(whole_model_filtered_metabolites)\n",
    "\n",
    "in_filtered_not_in_model = filtered_metabolites - whole_model_filtered_metabolites\n",
    "in_model_not_in_filtered = whole_model_filtered_metabolites - filtered_metabolites\n",
    "\n",
    "print(f\"Number of metabolites in filtered_metabolites.json: {count_filtered}\")\n",
    "print(f\"Number of metabolites in whole_model_filtered_metabolites.json: {count_whole_model_filtered}\\n\")\n",
    "\n",
    "print(\"Metabolites in filtered but NOT in whole model filtered:\")\n",
    "print(\"--------------------------------------------------------\")\n",
    "if in_filtered_not_in_model:\n",
    "    print(\"\\n\".join(in_filtered_not_in_model))\n",
    "else:\n",
    "    print(\"None\")\n",
    "print() \n",
    "\n",
    "print(\"Metabolites in whole model filtered but NOT in filtered:\")\n",
    "print(\"--------------------------------------------------------\")\n",
    "if in_model_not_in_filtered:\n",
    "    print(\"\\n\".join(in_model_not_in_filtered))\n",
    "else:\n",
    "    print(\"None\")\n",
    "print()  \n",
    "\n"
   ]
  }
 ],
 "metadata": {
  "kernelspec": {
   "display_name": "Python 3",
   "language": "python",
   "name": "python3"
  },
  "language_info": {
   "codemirror_mode": {
    "name": "ipython",
    "version": 3
   },
   "file_extension": ".py",
   "mimetype": "text/x-python",
   "name": "python",
   "nbconvert_exporter": "python",
   "pygments_lexer": "ipython3",
   "version": "3.12.4"
  }
 },
 "nbformat": 4,
 "nbformat_minor": 2
}
